{
 "cells": [
  {
   "cell_type": "markdown",
   "id": "sized-julian",
   "metadata": {},
   "source": [
    "# Pre-Processing the data before loading it into database"
   ]
  },
  {
   "cell_type": "code",
   "execution_count": 1,
   "id": "centered-sculpture",
   "metadata": {},
   "outputs": [],
   "source": [
    "import pandas as pd\n",
    "\n",
    "df_profile = pd.read_json('company_profiles.json')\n",
    "df_index = pd.read_json('company_index.json')"
   ]
  },
  {
   "cell_type": "markdown",
   "id": "immune-athletics",
   "metadata": {},
   "source": [
    "## Removing the duplicate company names"
   ]
  },
  {
   "cell_type": "code",
   "execution_count": 2,
   "id": "spare-dover",
   "metadata": {},
   "outputs": [],
   "source": [
    "df_index.drop_duplicates(subset=['company_name'], inplace=True)\n",
    "df_profile.drop_duplicates(subset=['company_name'], inplace=True)"
   ]
  },
  {
   "cell_type": "markdown",
   "id": "accompanied-enclosure",
   "metadata": {},
   "source": [
    "## Renaming the company_name column\n",
    "It is necessary to have an _id column to load the json file into `mongodb` <br>\n",
    "So company_name is getting renamed to _id <br>\n",
    "And also creating 2 new json files `company_profiles_db.json` & `company_index_db.json` which will be 2 collections in mongodb  "
   ]
  },
  {
   "cell_type": "code",
   "execution_count": 3,
   "id": "accepting-tuner",
   "metadata": {},
   "outputs": [],
   "source": [
    "df_index.rename(columns={\"company_name\": \"_id\"}, inplace=True)\n",
    "df_profile.rename(columns={\"company_name\": \"_id\"}, inplace=True)"
   ]
  },
  {
   "cell_type": "code",
   "execution_count": 4,
   "id": "given-addiction",
   "metadata": {},
   "outputs": [],
   "source": [
    "df_profile.to_json('company_profiles_db.json',orient='records')\n",
    "df_index.to_json('company_index_db.json', orient='records')"
   ]
  },
  {
   "cell_type": "markdown",
   "id": "dominican-oklahoma",
   "metadata": {},
   "source": [
    "# Loading the Data into Mongodb"
   ]
  },
  {
   "cell_type": "code",
   "execution_count": 6,
   "id": "steady-static",
   "metadata": {},
   "outputs": [
    {
     "output_type": "stream",
     "name": "stdout",
     "text": [
      "<pymongo.results.InsertManyResult object at 0x7f143846be00>\n",
      "<pymongo.results.InsertManyResult object at 0x7f14384eb980>\n"
     ]
    }
   ],
   "source": [
    "from pymongo import MongoClient\n",
    "import json\n",
    "\n",
    "\n",
    "def init_connection():\n",
    "    client = MongoClient('mongodb://localhost:27017/')\n",
    "    return client\n",
    "\n",
    "def insert_json_to_mongodb_collection(database, collection, json_data):\n",
    "    client = init_connection()\n",
    "    db = client[database]\n",
    "    collection = db[collection]\n",
    "    return collection.insert_many(json_data)\n",
    "\n",
    "    \n",
    "def main():\n",
    "    \n",
    "    with open('company_index_db.json', 'r') as file:\n",
    "        data = json.load(file)\n",
    "        report = insert_json_to_mongodb_collection(database='company_database', collection='company_index', json_data=data)\n",
    "        print(report)\n",
    "    with open('company_profiles_db.json', 'r') as file:\n",
    "        data = json.load(file)\n",
    "        report = insert_json_to_mongodb_collection(database='company_database', collection='company_profile', json_data=data)\n",
    "        print(report)\n",
    "        \n",
    "main()"
   ]
  },
  {
   "cell_type": "markdown",
   "id": "enabling-venture",
   "metadata": {},
   "source": [
    "# MongoDB database running locally\n",
    "<p display=\"flex\">\n",
    "  <img src=\"db1.png\" width=40% />\n",
    "  <img src=\"db2.png\" width=40% /> \n",
    "</p>\n",
    "\n"
   ]
  }
 ],
 "metadata": {
  "kernelspec": {
   "display_name": "Python 3.9.1 64-bit ('.env': venv)",
   "language": "python",
   "name": "python39164bitenvvenv6d214e7d9b7f409d86844bb07359c4f2"
  },
  "language_info": {
   "codemirror_mode": {
    "name": "ipython",
    "version": 3
   },
   "file_extension": ".py",
   "mimetype": "text/x-python",
   "name": "python",
   "nbconvert_exporter": "python",
   "pygments_lexer": "ipython3",
   "version": "3.9.1-final"
  }
 },
 "nbformat": 4,
 "nbformat_minor": 5
}